{
  "nbformat": 4,
  "nbformat_minor": 0,
  "metadata": {
    "colab": {
      "provenance": []
    },
    "kernelspec": {
      "name": "python3",
      "display_name": "Python 3"
    },
    "language_info": {
      "name": "python"
    }
  },
  "cells": [
    {
      "cell_type": "markdown",
      "source": [
        "# ML Case Study: Predicting Travel Insurance Purchases\n",
        "**Problem Statement**\n",
        "We want to predict whether a customer will buy travel insurance based on features such as their age, gender, travel purpose, country, and other demographic information.\n",
        "\n",
        "**Target Variable:** Purchased_Insurance (1 = Purchased, 0 = Not Purchased)\n",
        "\n",
        "**Dataset Overview**\n",
        "The dataset contains the following columns:\n",
        "\n",
        "Age: The age of the customer\n",
        "\n",
        "Gender: The gender of the customer (Male/Female)\n",
        "\n",
        "Annual_Income: The annual income of the customer\n",
        "\n",
        "Travel_Purpose: The purpose of the trip (Business or Leisure)\n",
        "\n",
        "Country: The country of the customer\n",
        "\n",
        "Purchased_Insurance: Target variable indicating whether the customer purchased insurance (1 = Yes, 0 = No)"
      ],
      "metadata": {
        "id": "dTRrnEAhpSjs"
      }
    },
    {
      "cell_type": "markdown",
      "source": [
        "# Step-by-Step Breakdown"
      ],
      "metadata": {
        "id": "LoqzDsmfpwQj"
      }
    },
    {
      "cell_type": "markdown",
      "source": [
        "**Data Collection**"
      ],
      "metadata": {
        "id": "8FRBhwvtp1gG"
      }
    },
    {
      "cell_type": "code",
      "source": [],
      "metadata": {
        "id": "eMDjahyOpe8V"
      },
      "execution_count": null,
      "outputs": []
    },
    {
      "cell_type": "code",
      "execution_count": null,
      "metadata": {
        "colab": {
          "base_uri": "https://localhost:8080/"
        },
        "id": "s0XJAc8xlRwC",
        "outputId": "0cccd6a5-9939-4d67-f412-848a48af212a",
        "collapsed": true
      },
      "outputs": [
        {
          "output_type": "stream",
          "name": "stdout",
          "text": [
            "Warning: Looks like you're using an outdated `kagglehub` version (installed: 0.3.5), please consider upgrading to the latest version (0.3.6).\n",
            "Downloading from https://www.kaggle.com/api/v1/datasets/download/tejashvi14/travel-insurance-prediction-data?dataset_version_number=4...\n"
          ]
        },
        {
          "output_type": "stream",
          "name": "stderr",
          "text": [
            "100%|██████████| 13.0k/13.0k [00:00<00:00, 20.1MB/s]"
          ]
        },
        {
          "output_type": "stream",
          "name": "stdout",
          "text": [
            "Extracting files...\n"
          ]
        },
        {
          "output_type": "stream",
          "name": "stderr",
          "text": [
            "\n"
          ]
        },
        {
          "output_type": "execute_result",
          "data": {
            "text/plain": [
              "'/root/.cache/kagglehub/datasets/tejashvi14/travel-insurance-prediction-data/versions/4'"
            ],
            "application/vnd.google.colaboratory.intrinsic+json": {
              "type": "string"
            }
          },
          "metadata": {},
          "execution_count": 1
        }
      ],
      "source": [
        "import kagglehub\n",
        "\n",
        "# Download latest version\n",
        "kagglehub.dataset_download(\"tejashvi14/travel-insurance-prediction-data\")\n"
      ]
    },
    {
      "cell_type": "code",
      "source": [
        "import pandas as pd\n",
        "\n",
        "df = pd.read_csv('/root/.cache/kagglehub/datasets/tejashvi14/travel-insurance-prediction-data/versions/4/TravelInsurancePrediction.csv')\n",
        "df.head()\n",
        "df1=df"
      ],
      "metadata": {
        "collapsed": true,
        "id": "wVH_M8Oznfmp"
      },
      "execution_count": null,
      "outputs": []
    },
    {
      "source": [
        "# @title Age\n",
        "\n",
        "from matplotlib import pyplot as plt\n",
        "df['Age'].plot(kind='hist', bins=20, title='Age')\n",
        "plt.gca().spines[['top', 'right',]].set_visible(False)"
      ],
      "cell_type": "code",
      "execution_count": null,
      "outputs": [
        {
          "output_type": "display_data",
          "data": {
            "text/plain": [
              "<Figure size 640x480 with 1 Axes>"
            ],
            "image/png": "[encoded data removed]"
          },
          "metadata": {}
        }
      ],
      "metadata": {
        "cellView": "form",
        "colab": {
          "base_uri": "https://localhost:8080/",
          "height": 452
        },
        "id": "hiDHP1xRRVd7",
        "outputId": "352f3851-34a0-4fba-d613-86df05d5d743"
      }
    },
    {
      "cell_type": "markdown",
      "source": [
        "# Data Exploration and Understanding\n",
        "The first step is to explore the dataset and understand its structure."
      ],
      "metadata": {
        "id": "09IXaakPp7zA"
      }
    },
    {
      "cell_type": "code",
      "source": [
        "# prompt: Using dataframe df: now we want to have dATA EXPLORATION OF DF, corelation of variables like annual income and employment type and rest of the variable\n",
        "\n",
        "import pandas as pd\n",
        "import matplotlib.pyplot as plt\n",
        "import seaborn as sns\n",
        "\n",
        "# Calculate the correlation matrix\n",
        "correlation_matrix = df.corr()\n",
        "\n",
        "# Visualize the correlation matrix using a heatmap\n",
        "plt.figure(figsize=(12, 10))\n",
        "sns.heatmap(correlation_matrix, annot=True, cmap='coolwarm', fmt=\".2f\")\n",
        "plt.title('Correlation Matrix of Variables')\n",
        "plt.show()\n",
        "\n",
        "\n",
        "# Explore the relationship between Annual Income and Employment Type\n",
        "plt.figure(figsize=(8, 6))\n",
        "sns.boxplot(x='Employment Type', y='AnnualIncome', data=df)\n",
        "plt.title('Annual Income vs. Employment Type')\n",
        "plt.xlabel('Employment Type')\n",
        "plt.ylabel('Annual Income')\n",
        "plt.show()\n",
        "\n",
        "#Further exploration by creating different plots for other variable relationships\n",
        "# Example: Annual Income vs. Age\n",
        "plt.figure(figsize=(8,6))\n",
        "sns.scatterplot(x='Age', y='AnnualIncome', data=df)\n",
        "plt.title('Annual Income vs Age')\n",
        "plt.xlabel('Age')\n",
        "plt.ylabel('Annual Income')\n",
        "plt.show()\n",
        "\n",
        "\n",
        "# Example: Annual Income vs Family Members\n",
        "plt.figure(figsize=(8,6))\n",
        "sns.regplot(x='FamilyMembers', y='AnnualIncome', data =df)\n",
        "plt.title('Annual Income vs Family Members')\n",
        "plt.xlabel('Family Members')\n",
        "plt.ylabel('Annual Income')\n",
        "plt.show()\n",
        "\n",
        "# You can continue to create similar plots for other pairs of variables\n",
        "# to understand their relationships.\n",
        "\n",
        "# Descriptive statistics for numerical variables\n",
        "print(df.describe())"
      ],
      "metadata": {
        "colab": {
          "base_uri": "https://localhost:8080/",
          "height": 1000
        },
        "id": "c22AsmshUBCW",
        "outputId": "84eb6466-f70a-4815-d2cb-345ee9809565"
      },
      "execution_count": null,
      "outputs": [
        {
          "output_type": "stream",
          "name": "stdout",
          "text": [
            "Employment Type\n",
            "Government Sector               7.253509e+05\n",
            "Private Sector/Self Employed    1.016196e+06\n",
            "Name: AnnualIncome, dtype: float64\n"
          ]
        },
        {
          "output_type": "display_data",
          "data": {
            "text/plain": [
              "<Figure size 800x600 with 1 Axes>"
            ],
            "image/png": "[encoded data removed]"
          },
          "metadata": {}
        },
        {
          "output_type": "display_data",
          "data": {
            "text/plain": [
              "<Figure size 800x600 with 1 Axes>"
            ],
            "image/png": "[encoded data removed]"
          },
          "metadata": {}
        },
        {
          "output_type": "display_data",
          "data": {
            "text/plain": [
              "<Figure size 800x600 with 1 Axes>"
            ],
            "image/png": "[encoded data removed]"
          },
          "metadata": {}
        },
        {
          "output_type": "display_data",
          "data": {
            "text/plain": [
              "<Figure size 800x600 with 1 Axes>"
            ],
            "image/png": "[encoded data removed]"
          },
          "metadata": {}
        },
        {
          "output_type": "display_data",
          "data": {
            "text/plain": [
              "<Figure size 800x600 with 1 Axes>"
            ],
            "image/png": "[encoded data removed]"
          },
          "metadata": {}
        }
      ]
    },
    {
      "cell_type": "code",
      "source": [
        "df.info()"
      ],
      "metadata": {
        "id": "8pkQjDOXp-EE",
        "colab": {
          "base_uri": "https://localhost:8080/"
        },
        "outputId": "07471e52-6565-406d-c820-add1c2eaf45f"
      },
      "execution_count": null,
      "outputs": [
        {
          "output_type": "stream",
          "name": "stdout",
          "text": [
            "<class 'pandas.core.frame.DataFrame'>\n",
            "RangeIndex: 1987 entries, 0 to 1986\n",
            "Data columns (total 10 columns):\n",
            " #   Column               Non-Null Count  Dtype \n",
            "---  ------               --------------  ----- \n",
            " 0   Unnamed: 0           1987 non-null   int64 \n",
            " 1   Age                  1987 non-null   int64 \n",
            " 2   Employment Type      1987 non-null   object\n",
            " 3   GraduateOrNot        1987 non-null   object\n",
            " 4   AnnualIncome         1987 non-null   int64 \n",
            " 5   FamilyMembers        1987 non-null   int64 \n",
            " 6   ChronicDiseases      1987 non-null   int64 \n",
            " 7   FrequentFlyer        1987 non-null   object\n",
            " 8   EverTravelledAbroad  1987 non-null   object\n",
            " 9   TravelInsurance      1987 non-null   int64 \n",
            "dtypes: int64(6), object(4)\n",
            "memory usage: 155.4+ KB\n"
          ]
        }
      ]
    },
    {
      "cell_type": "code",
      "source": [
        "# prompt: Using dataframe df: clean the data, we need to encode categorical features and scale the numerical features.  do not scale the binary categorical features, use minmax scaler\n",
        "\n",
        "import pandas as pd\n",
        "from sklearn.preprocessing import MinMaxScaler, LabelEncoder\n",
        "\n",
        "# Identify categorical and numerical columns\n",
        "categorical_cols = df.select_dtypes(include=['object', 'category']).columns.tolist()\n",
        "numerical_cols = df.select_dtypes(include=['number']).columns.tolist()\n",
        "\n",
        "# Remove binary categorical features from scaling\n",
        "binary_categorical_cols = ['ChronicDiseases', 'TravelInsurance']\n",
        "numerical_cols = [col for col in numerical_cols if col not in binary_categorical_cols]\n",
        "\n",
        "# Encode categorical features\n",
        "label_encoders = {}\n",
        "for col in categorical_cols:\n",
        "    le = LabelEncoder()\n",
        "    df[col] = le.fit_transform(df[col])\n",
        "    label_encoders[col] = le  # Store the encoder for later use if needed\n",
        "\n",
        "\n",
        "# Scale numerical features using MinMaxScaler\n",
        "scaler = MinMaxScaler()\n",
        "df[numerical_cols] = scaler.fit_transform(df[numerical_cols])\n",
        "\n",
        "# Display the first few rows of the transformed DataFrame\n",
        "print(df.head())"
      ],
      "metadata": {
        "colab": {
          "base_uri": "https://localhost:8080/"
        },
        "id": "jTfSXlB4W1AW",
        "outputId": "851b31d6-6717-4d54-c416-f10121d83cb3"
      },
      "execution_count": null,
      "outputs": [
        {
          "output_type": "stream",
          "name": "stdout",
          "text": [
            "   Unnamed: 0  Age  Employment Type  GraduateOrNot  AnnualIncome  \\\n",
            "0    0.000000  0.6                0              1      0.066667   \n",
            "1    0.000504  0.6                1              1      0.633333   \n",
            "2    0.001007  0.9                1              1      0.133333   \n",
            "3    0.001511  0.3                1              1      0.266667   \n",
            "4    0.002014  0.3                1              1      0.266667   \n",
            "\n",
            "   FamilyMembers  ChronicDiseases  FrequentFlyer  EverTravelledAbroad  \\\n",
            "0       0.571429                1              0                    0   \n",
            "1       0.714286                0              0                    0   \n",
            "2       0.285714                1              0                    0   \n",
            "3       0.142857                1              0                    0   \n",
            "4       0.857143                1              1                    0   \n",
            "\n",
            "   TravelInsurance  \n",
            "0                0  \n",
            "1                0  \n",
            "2                1  \n",
            "3                0  \n",
            "4                0  \n"
          ]
        }
      ]
    },
    {
      "cell_type": "code",
      "source": [
        "df.describe()\n"
      ],
      "metadata": {
        "id": "MDT7b719mClh",
        "colab": {
          "base_uri": "https://localhost:8080/",
          "height": 338
        },
        "outputId": "e414f03e-c9ca-48cc-fdde-4c1dbfa29edf"
      },
      "execution_count": null,
      "outputs": [
        {
          "output_type": "execute_result",
          "data": {
            "text/plain": [
              "        Unnamed: 0          Age  Employment Type  GraduateOrNot  AnnualIncome  \\\n",
              "count  1987.000000  1987.000000      1987.000000    1987.000000   1987.000000   \n",
              "mean      0.500000     0.465023         0.713135       0.851535      0.421842   \n",
              "std       0.288893     0.291331         0.452412       0.355650      0.251237   \n",
              "min       0.000000     0.000000         0.000000       0.000000      0.000000   \n",
              "25%       0.250000     0.300000         0.000000       1.000000      0.200000   \n",
              "50%       0.500000     0.400000         1.000000       1.000000      0.400000   \n",
              "75%       0.750000     0.700000         1.000000       1.000000      0.633333   \n",
              "max       1.000000     1.000000         1.000000       1.000000      1.000000   \n",
              "\n",
              "       FamilyMembers  ChronicDiseases  FrequentFlyer  EverTravelledAbroad  \\\n",
              "count    1987.000000      1987.000000    1987.000000          1987.000000   \n",
              "mean        0.393271         0.277806       0.209864             0.191243   \n",
              "std         0.229950         0.448030       0.407314             0.393379   \n",
              "min         0.000000         0.000000       0.000000             0.000000   \n",
              "25%         0.285714         0.000000       0.000000             0.000000   \n",
              "50%         0.428571         0.000000       0.000000             0.000000   \n",
              "75%         0.571429         1.000000       0.000000             0.000000   \n",
              "max         1.000000         1.000000       1.000000             1.000000   \n",
              "\n",
              "       TravelInsurance  \n",
              "count      1987.000000  \n",
              "mean          0.357323  \n",
              "std           0.479332  \n",
              "min           0.000000  \n",
              "25%           0.000000  \n",
              "50%           0.000000  \n",
              "75%           1.000000  \n",
              "max           1.000000  "
            ],
            "text/html": [
              "\n",
              "  <div id=\"df-ea2c7edc-c228-4837-8d38-fced45d75765\" class=\"colab-df-container\">\n",
              "    <div>\n",
              "<style scoped>\n",
              "    .dataframe tbody tr th:only-of-type {\n",
              "        vertical-align: middle;\n",
              "    }\n",
              "\n",
              "    .dataframe tbody tr th {\n",
              "        vertical-align: top;\n",
              "    }\n",
              "\n",
              "    .dataframe thead th {\n",
              "        text-align: right;\n",
              "    }\n",
              "</style>\n",
              "<table border=\"1\" class=\"dataframe\">\n",
              "  <thead>\n",
              "    <tr style=\"text-align: right;\">\n",
              "      <th></th>\n",
              "      <th>Unnamed: 0</th>\n",
              "      <th>Age</th>\n",
              "      <th>Employment Type</th>\n",
              "      <th>GraduateOrNot</th>\n",
              "      <th>AnnualIncome</th>\n",
              "      <th>FamilyMembers</th>\n",
              "      <th>ChronicDiseases</th>\n",
              "      <th>FrequentFlyer</th>\n",
              "      <th>EverTravelledAbroad</th>\n",
              "      <th>TravelInsurance</th>\n",
              "    </tr>\n",
              "  </thead>\n",
              "  <tbody>\n",
              "    <tr>\n",
              "      <th>count</th>\n",
              "      <td>1987.000000</td>\n",
              "      <td>1987.000000</td>\n",
              "      <td>1987.000000</td>\n",
              "      <td>1987.000000</td>\n",
              "      <td>1987.000000</td>\n",
              "      <td>1987.000000</td>\n",
              "      <td>1987.000000</td>\n",
              "      <td>1987.000000</td>\n",
              "      <td>1987.000000</td>\n",
              "      <td>1987.000000</td>\n",
              "    </tr>\n",
              "    <tr>\n",
              "      <th>mean</th>\n",
              "      <td>0.500000</td>\n",
              "      <td>0.465023</td>\n",
              "      <td>0.713135</td>\n",
              "      <td>0.851535</td>\n",
              "      <td>0.421842</td>\n",
              "      <td>0.393271</td>\n",
              "      <td>0.277806</td>\n",
              "      <td>0.209864</td>\n",
              "      <td>0.191243</td>\n",
              "      <td>0.357323</td>\n",
              "    </tr>\n",
              "    <tr>\n",
              "      <th>std</th>\n",
              "      <td>0.288893</td>\n",
              "      <td>0.291331</td>\n",
              "      <td>0.452412</td>\n",
              "      <td>0.355650</td>\n",
              "      <td>0.251237</td>\n",
              "      <td>0.229950</td>\n",
              "      <td>0.448030</td>\n",
              "      <td>0.407314</td>\n",
              "      <td>0.393379</td>\n",
              "      <td>0.479332</td>\n",
              "    </tr>\n",
              "    <tr>\n",
              "      <th>min</th>\n",
              "      <td>0.000000</td>\n",
              "      <td>0.000000</td>\n",
              "      <td>0.000000</td>\n",
              "      <td>0.000000</td>\n",
              "      <td>0.000000</td>\n",
              "      <td>0.000000</td>\n",
              "      <td>0.000000</td>\n",
              "      <td>0.000000</td>\n",
              "      <td>0.000000</td>\n",
              "      <td>0.000000</td>\n",
              "    </tr>\n",
              "    <tr>\n",
              "      <th>25%</th>\n",
              "      <td>0.250000</td>\n",
              "      <td>0.300000</td>\n",
              "      <td>0.000000</td>\n",
              "      <td>1.000000</td>\n",
              "      <td>0.200000</td>\n",
              "      <td>0.285714</td>\n",
              "      <td>0.000000</td>\n",
              "      <td>0.000000</td>\n",
              "      <td>0.000000</td>\n",
              "      <td>0.000000</td>\n",
              "    </tr>\n",
              "    <tr>\n",
              "      <th>50%</th>\n",
              "      <td>0.500000</td>\n",
              "      <td>0.400000</td>\n",
              "      <td>1.000000</td>\n",
              "      <td>1.000000</td>\n",
              "      <td>0.400000</td>\n",
              "      <td>0.428571</td>\n",
              "      <td>0.000000</td>\n",
              "      <td>0.000000</td>\n",
              "      <td>0.000000</td>\n",
              "      <td>0.000000</td>\n",
              "    </tr>\n",
              "    <tr>\n",
              "      <th>75%</th>\n",
              "      <td>0.750000</td>\n",
              "      <td>0.700000</td>\n",
              "      <td>1.000000</td>\n",
              "      <td>1.000000</td>\n",
              "      <td>0.633333</td>\n",
              "      <td>0.571429</td>\n",
              "      <td>1.000000</td>\n",
              "      <td>0.000000</td>\n",
              "      <td>0.000000</td>\n",
              "      <td>1.000000</td>\n",
              "    </tr>\n",
              "    <tr>\n",
              "      <th>max</th>\n",
              "      <td>1.000000</td>\n",
              "      <td>1.000000</td>\n",
              "      <td>1.000000</td>\n",
              "      <td>1.000000</td>\n",
              "      <td>1.000000</td>\n",
              "      <td>1.000000</td>\n",
              "      <td>1.000000</td>\n",
              "      <td>1.000000</td>\n",
              "      <td>1.000000</td>\n",
              "      <td>1.000000</td>\n",
              "    </tr>\n",
              "  </tbody>\n",
              "</table>\n",
              "</div>\n",
              "    <div class=\"colab-df-buttons\">\n",
              "\n",
              "  <div class=\"colab-df-container\">\n",
              "    <button class=\"colab-df-convert\" onclick=\"convertToInteractive('df-ea2c7edc-c228-4837-8d38-fced45d75765')\"\n",
              "            title=\"Convert this dataframe to an interactive table.\"\n",
              "            style=\"display:none;\">\n",
              "\n",
              "  <svg xmlns=\"http://www.w3.org/2000/svg\" height=\"24px\" viewBox=\"0 -960 960 960\">\n",
              "    <path d=\"M120-120v-720h720v720H120Zm60-500h600v-160H180v160Zm220 220h160v-160H400v160Zm0 220h160v-160H400v160ZM180-400h160v-160H180v160Zm440 0h160v-160H620v160ZM180-180h160v-160H180v160Zm440 0h160v-160H620v160Z\"/>\n",
              "  </svg>\n",
              "    </button>\n",
              "\n",
              "  <style>\n",
              "    .colab-df-container {\n",
              "      display:flex;\n",
              "      gap: 12px;\n",
              "    }\n",
              "\n",
              "    .colab-df-convert {\n",
              "      background-color: #E8F0FE;\n",
              "      border: none;\n",
              "      border-radius: 50%;\n",
              "      cursor: pointer;\n",
              "      display: none;\n",
              "      fill: #1967D2;\n",
              "      height: 32px;\n",
              "      padding: 0 0 0 0;\n",
              "      width: 32px;\n",
              "    }\n",
              "\n",
              "    .colab-df-convert:hover {\n",
              "      background-color: #E2EBFA;\n",
              "      box-shadow: 0px 1px 2px rgba(60, 64, 67, 0.3), 0px 1px 3px 1px rgba(60, 64, 67, 0.15);\n",
              "      fill: #174EA6;\n",
              "    }\n",
              "\n",
              "    .colab-df-buttons div {\n",
              "      margin-bottom: 4px;\n",
              "    }\n",
              "\n",
              "    [theme=dark] .colab-df-convert {\n",
              "      background-color: #3B4455;\n",
              "      fill: #D2E3FC;\n",
              "    }\n",
              "\n",
              "    [theme=dark] .colab-df-convert:hover {\n",
              "      background-color: #434B5C;\n",
              "      box-shadow: 0px 1px 3px 1px rgba(0, 0, 0, 0.15);\n",
              "      filter: drop-shadow(0px 1px 2px rgba(0, 0, 0, 0.3));\n",
              "      fill: #FFFFFF;\n",
              "    }\n",
              "  </style>\n",
              "\n",
              "    <script>\n",
              "      const buttonEl =\n",
              "        document.querySelector('#df-ea2c7edc-c228-4837-8d38-fced45d75765 button.colab-df-convert');\n",
              "      buttonEl.style.display =\n",
              "        google.colab.kernel.accessAllowed ? 'block' : 'none';\n",
              "\n",
              "      async function convertToInteractive(key) {\n",
              "        const element = document.querySelector('#df-ea2c7edc-c228-4837-8d38-fced45d75765');\n",
              "        const dataTable =\n",
              "          await google.colab.kernel.invokeFunction('convertToInteractive',\n",
              "                                                    [key], {});\n",
              "        if (!dataTable) return;\n",
              "\n",
              "        const docLinkHtml = 'Like what you see? Visit the ' +\n",
              "          '<a target=\"_blank\" href=https://colab.research.google.com/notebooks/data_table.ipynb>data table notebook</a>'\n",
              "          + ' to learn more about interactive tables.';\n",
              "        element.innerHTML = '';\n",
              "        dataTable['output_type'] = 'display_data';\n",
              "        await google.colab.output.renderOutput(dataTable, element);\n",
              "        const docLink = document.createElement('div');\n",
              "        docLink.innerHTML = docLinkHtml;\n",
              "        element.appendChild(docLink);\n",
              "      }\n",
              "    </script>\n",
              "  </div>\n",
              "\n",
              "\n",
              "<div id=\"df-065368f2-20c4-4d24-8cbe-6000d4e10b2e\">\n",
              "  <button class=\"colab-df-quickchart\" onclick=\"quickchart('df-065368f2-20c4-4d24-8cbe-6000d4e10b2e')\"\n",
              "            title=\"Suggest charts\"\n",
              "            style=\"display:none;\">\n",
              "\n",
              "<svg xmlns=\"http://www.w3.org/2000/svg\" height=\"24px\"viewBox=\"0 0 24 24\"\n",
              "     width=\"24px\">\n",
              "    <g>\n",
              "        <path d=\"M19 3H5c-1.1 0-2 .9-2 2v14c0 1.1.9 2 2 2h14c1.1 0 2-.9 2-2V5c0-1.1-.9-2-2-2zM9 17H7v-7h2v7zm4 0h-2V7h2v10zm4 0h-2v-4h2v4z\"/>\n",
              "    </g>\n",
              "</svg>\n",
              "  </button>\n",
              "\n",
              "<style>\n",
              "  .colab-df-quickchart {\n",
              "      --bg-color: #E8F0FE;\n",
              "      --fill-color: #1967D2;\n",
              "      --hover-bg-color: #E2EBFA;\n",
              "      --hover-fill-color: #174EA6;\n",
              "      --disabled-fill-color: #AAA;\n",
              "      --disabled-bg-color: #DDD;\n",
              "  }\n",
              "\n",
              "  [theme=dark] .colab-df-quickchart {\n",
              "      --bg-color: #3B4455;\n",
              "      --fill-color: #D2E3FC;\n",
              "      --hover-bg-color: #434B5C;\n",
              "      --hover-fill-color: #FFFFFF;\n",
              "      --disabled-bg-color: #3B4455;\n",
              "      --disabled-fill-color: #666;\n",
              "  }\n",
              "\n",
              "  .colab-df-quickchart {\n",
              "    background-color: var(--bg-color);\n",
              "    border: none;\n",
              "    border-radius: 50%;\n",
              "    cursor: pointer;\n",
              "    display: none;\n",
              "    fill: var(--fill-color);\n",
              "    height: 32px;\n",
              "    padding: 0;\n",
              "    width: 32px;\n",
              "  }\n",
              "\n",
              "  .colab-df-quickchart:hover {\n",
              "    background-color: var(--hover-bg-color);\n",
              "    box-shadow: 0 1px 2px rgba(60, 64, 67, 0.3), 0 1px 3px 1px rgba(60, 64, 67, 0.15);\n",
              "    fill: var(--button-hover-fill-color);\n",
              "  }\n",
              "\n",
              "  .colab-df-quickchart-complete:disabled,\n",
              "  .colab-df-quickchart-complete:disabled:hover {\n",
              "    background-color: var(--disabled-bg-color);\n",
              "    fill: var(--disabled-fill-color);\n",
              "    box-shadow: none;\n",
              "  }\n",
              "\n",
              "  .colab-df-spinner {\n",
              "    border: 2px solid var(--fill-color);\n",
              "    border-color: transparent;\n",
              "    border-bottom-color: var(--fill-color);\n",
              "    animation:\n",
              "      spin 1s steps(1) infinite;\n",
              "  }\n",
              "\n",
              "  @keyframes spin {\n",
              "    0% {\n",
              "      border-color: transparent;\n",
              "      border-bottom-color: var(--fill-color);\n",
              "      border-left-color: var(--fill-color);\n",
              "    }\n",
              "    20% {\n",
              "      border-color: transparent;\n",
              "      border-left-color: var(--fill-color);\n",
              "      border-top-color: var(--fill-color);\n",
              "    }\n",
              "    30% {\n",
              "      border-color: transparent;\n",
              "      border-left-color: var(--fill-color);\n",
              "      border-top-color: var(--fill-color);\n",
              "      border-right-color: var(--fill-color);\n",
              "    }\n",
              "    40% {\n",
              "      border-color: transparent;\n",
              "      border-right-color: var(--fill-color);\n",
              "      border-top-color: var(--fill-color);\n",
              "    }\n",
              "    60% {\n",
              "      border-color: transparent;\n",
              "      border-right-color: var(--fill-color);\n",
              "    }\n",
              "    80% {\n",
              "      border-color: transparent;\n",
              "      border-right-color: var(--fill-color);\n",
              "      border-bottom-color: var(--fill-color);\n",
              "    }\n",
              "    90% {\n",
              "      border-color: transparent;\n",
              "      border-bottom-color: var(--fill-color);\n",
              "    }\n",
              "  }\n",
              "</style>\n",
              "\n",
              "  <script>\n",
              "    async function quickchart(key) {\n",
              "      const quickchartButtonEl =\n",
              "        document.querySelector('#' + key + ' button');\n",
              "      quickchartButtonEl.disabled = true;  // To prevent multiple clicks.\n",
              "      quickchartButtonEl.classList.add('colab-df-spinner');\n",
              "      try {\n",
              "        const charts = await google.colab.kernel.invokeFunction(\n",
              "            'suggestCharts', [key], {});\n",
              "      } catch (error) {\n",
              "        console.error('Error during call to suggestCharts:', error);\n",
              "      }\n",
              "      quickchartButtonEl.classList.remove('colab-df-spinner');\n",
              "      quickchartButtonEl.classList.add('colab-df-quickchart-complete');\n",
              "    }\n",
              "    (() => {\n",
              "      let quickchartButtonEl =\n",
              "        document.querySelector('#df-065368f2-20c4-4d24-8cbe-6000d4e10b2e button');\n",
              "      quickchartButtonEl.style.display =\n",
              "        google.colab.kernel.accessAllowed ? 'block' : 'none';\n",
              "    })();\n",
              "  </script>\n",
              "</div>\n",
              "\n",
              "    </div>\n",
              "  </div>\n"
            ],
            "application/vnd.google.colaboratory.intrinsic+json": {
              "type": "dataframe",
              "summary": "{\n  \"name\": \"df\",\n  \"rows\": 8,\n  \"fields\": [\n    {\n      \"column\": \"Unnamed: 0\",\n      \"properties\": {\n        \"dtype\": \"number\",\n        \"std\": 702.3445403667358,\n        \"min\": 0.0,\n        \"max\": 1987.0,\n        \"num_unique_values\": 8,\n        \"samples\": [\n          0.4999999999999999,\n          0.49999999999999994,\n          1987.0\n        ],\n        \"semantic_type\": \"\",\n        \"description\": \"\"\n      }\n    },\n    {\n      \"column\": \"Age\",\n      \"properties\": {\n        \"dtype\": \"number\",\n        \"std\": 702.3512300235302,\n        \"min\": 0.0,\n        \"max\": 1987.0,\n        \"num_unique_values\": 8,\n        \"samples\": [\n          0.46502264720684455,\n          0.4,\n          1987.0\n        ],\n        \"semantic_type\": \"\",\n        \"description\": \"\"\n      }\n    },\n    {\n      \"column\": \"Employment Type\",\n      \"properties\": {\n        \"dtype\": \"number\",\n        \"std\": 702.3003207592113,\n        \"min\": 0.0,\n        \"max\": 1987.0,\n        \"num_unique_values\": 5,\n        \"samples\": [\n          0.7131353799698037,\n          1.0,\n          0.4524116681894787\n        ],\n        \"semantic_type\": \"\",\n        \"description\": \"\"\n      }\n    },\n    {\n      \"column\": \"GraduateOrNot\",\n      \"properties\": {\n        \"dtype\": \"number\",\n        \"std\": 702.2476840411556,\n        \"min\": 0.0,\n        \"max\": 1987.0,\n        \"num_unique_values\": 5,\n        \"samples\": [\n          0.8515349773527932,\n          1.0,\n          0.3556498515080261\n        ],\n        \"semantic_type\": \"\",\n        \"description\": \"\"\n      }\n    },\n    {\n      \"column\": \"AnnualIncome\",\n      \"properties\": {\n        \"dtype\": \"number\",\n        \"std\": 702.3638557352934,\n        \"min\": 0.0,\n        \"max\": 1987.0,\n        \"num_unique_values\": 8,\n        \"samples\": [\n          0.42184197282335184,\n          0.4000000000000001,\n          1987.0\n        ],\n        \"semantic_type\": \"\",\n        \"description\": \"\"\n      }\n    },\n    {\n      \"column\": \"FamilyMembers\",\n      \"properties\": {\n        \"dtype\": \"number\",\n        \"std\": 702.3637237704138,\n        \"min\": 0.0,\n        \"max\": 1987.0,\n        \"num_unique_values\": 8,\n        \"samples\": [\n          0.39327054425192326,\n          0.4285714285714286,\n          1987.0\n        ],\n        \"semantic_type\": \"\",\n        \"description\": \"\"\n      }\n    },\n    {\n      \"column\": \"ChronicDiseases\",\n      \"properties\": {\n        \"dtype\": \"number\",\n        \"std\": 702.373035330389,\n        \"min\": 0.0,\n        \"max\": 1987.0,\n        \"num_unique_values\": 5,\n        \"samples\": [\n          0.2778057372924006,\n          1.0,\n          0.44802983341369457\n        ],\n        \"semantic_type\": \"\",\n        \"description\": \"\"\n      }\n    },\n    {\n      \"column\": \"FrequentFlyer\",\n      \"properties\": {\n        \"dtype\": \"number\",\n        \"std\": 702.4289923267755,\n        \"min\": 0.0,\n        \"max\": 1987.0,\n        \"num_unique_values\": 5,\n        \"samples\": [\n          0.20986411675893307,\n          1.0,\n          0.4073139628172634\n        ],\n        \"semantic_type\": \"\",\n        \"description\": \"\"\n      }\n    },\n    {\n      \"column\": \"EverTravelledAbroad\",\n      \"properties\": {\n        \"dtype\": \"number\",\n        \"std\": 702.4306362725923,\n        \"min\": 0.0,\n        \"max\": 1987.0,\n        \"num_unique_values\": 5,\n        \"samples\": [\n          0.19124308002013085,\n          1.0,\n          0.3933790082158845\n        ],\n        \"semantic_type\": \"\",\n        \"description\": \"\"\n      }\n    },\n    {\n      \"column\": \"TravelInsurance\",\n      \"properties\": {\n        \"dtype\": \"number\",\n        \"std\": 702.3674372777176,\n        \"min\": 0.0,\n        \"max\": 1987.0,\n        \"num_unique_values\": 5,\n        \"samples\": [\n          0.3573225968797182,\n          1.0,\n          0.47933160717310136\n        ],\n        \"semantic_type\": \"\",\n        \"description\": \"\"\n      }\n    }\n  ]\n}"
            }
          },
          "metadata": {},
          "execution_count": 32
        }
      ]
    },
    {
      "cell_type": "markdown",
      "source": [
        "# Data Preprocessing\n",
        "We'll clean the data, handle missing values, encode categorical variables, and scale numerical features.\n",
        "\n",
        "Handling Missing Data:\n",
        "If there are missing values in any columns, we need to handle them. For simplicity, let's assume we'll drop rows with missing target values and impute or drop missing numerical values."
      ],
      "metadata": {
        "id": "KEI2xOndqDKl"
      }
    },
    {
      "cell_type": "code",
      "source": [
        "print(df.isnull().sum())\n",
        "print(df.duplicated().sum())"
      ],
      "metadata": {
        "id": "ZiWlmWzlqYmF",
        "colab": {
          "base_uri": "https://localhost:8080/"
        },
        "outputId": "c66a9dcf-07ea-456e-fe8b-0a17f7380817"
      },
      "execution_count": null,
      "outputs": [
        {
          "output_type": "stream",
          "name": "stdout",
          "text": [
            "Unnamed: 0             0\n",
            "Age                    0\n",
            "Employment Type        0\n",
            "GraduateOrNot          0\n",
            "AnnualIncome           0\n",
            "FamilyMembers          0\n",
            "ChronicDiseases        0\n",
            "FrequentFlyer          0\n",
            "EverTravelledAbroad    0\n",
            "TravelInsurance        0\n",
            "dtype: int64\n",
            "0\n"
          ]
        }
      ]
    },
    {
      "cell_type": "code",
      "source": [],
      "metadata": {
        "id": "99PqjuXCRG3T"
      },
      "execution_count": null,
      "outputs": []
    },
    {
      "cell_type": "code",
      "source": [],
      "metadata": {
        "id": "03iUzW3jRHL3"
      },
      "execution_count": null,
      "outputs": []
    },
    {
      "cell_type": "code",
      "source": [],
      "metadata": {
        "id": "FUXqOK0dqYqq",
        "colab": {
          "base_uri": "https://localhost:8080/"
        },
        "outputId": "00fef7c5-56f1-494d-9a81-3183719059b2"
      },
      "execution_count": null,
      "outputs": [
        {
          "output_type": "stream",
          "name": "stdout",
          "text": [
            "0\n"
          ]
        }
      ]
    },
    {
      "cell_type": "markdown",
      "source": [
        "# Splitting the Data into Training and Testing Sets\n",
        "We’ll split the data into training and testing sets (80% train, 20% test)."
      ],
      "metadata": {
        "id": "Ivu_oeL3qWV6"
      }
    },
    {
      "cell_type": "code",
      "source": [
        "# prompt: we need to split into test train\n",
        "\n",
        "from sklearn.model_selection import train_test_split\n",
        "\n",
        "# Assuming 'Purchased_Insurance' is your target variable\n",
        "X = df.drop('TravelInsurance', axis=1)\n",
        "y = df['TravelInsurance']\n",
        "\n",
        "X_train, X_test, y_train, y_test = train_test_split(X, y, test_size=0.2, random_state=42) # 80% train, 20% test\n",
        "\n",
        "print(\"X_train shape:\", X_train.shape)\n",
        "print(\"y_train shape:\", y_train.shape)\n",
        "print(\"X_test shape:\", X_test.shape)\n",
        "print(\"y_test shape:\", y_test.shape)\n"
      ],
      "metadata": {
        "id": "FcixJfxuqZmm",
        "colab": {
          "base_uri": "https://localhost:8080/"
        },
        "outputId": "f03a620d-41f1-42d4-8e42-e8258aeda6ac"
      },
      "execution_count": null,
      "outputs": [
        {
          "output_type": "stream",
          "name": "stdout",
          "text": [
            "X_train shape: (1589, 9)\n",
            "y_train shape: (1589,)\n",
            "X_test shape: (398, 9)\n",
            "y_test shape: (398,)\n"
          ]
        }
      ]
    },
    {
      "cell_type": "code",
      "source": [
        "X_train.columns"
      ],
      "metadata": {
        "id": "mKR9V_5JqZpi",
        "colab": {
          "base_uri": "https://localhost:8080/"
        },
        "outputId": "b2eb7bc4-cf50-45f2-ad76-2ae273b6efe0"
      },
      "execution_count": null,
      "outputs": [
        {
          "output_type": "execute_result",
          "data": {
            "text/plain": [
              "Index(['Unnamed: 0', 'Age', 'Employment Type', 'GraduateOrNot', 'AnnualIncome',\n",
              "       'FamilyMembers', 'ChronicDiseases', 'FrequentFlyer',\n",
              "       'EverTravelledAbroad'],\n",
              "      dtype='object')"
            ]
          },
          "metadata": {},
          "execution_count": 37
        }
      ]
    },
    {
      "cell_type": "markdown",
      "source": [
        "# Model Selection and Training\n",
        "We’ll train multiple models to predict the target variable Purchased_Insurance:\n",
        "\n",
        "Logistic Regression\n",
        "\n",
        "Decision Tree Classifier\n",
        "\n",
        "Random Forest Classifier\n",
        "\n",
        "Support Vector Machine (SVM)"
      ],
      "metadata": {
        "id": "1jjZspy7qaEI"
      }
    },
    {
      "cell_type": "code",
      "source": [
        "# prompt: we need to apply multiple models to predict the target\n",
        "# Logistic Regression\n",
        "# Decision Tree Classifier\n",
        "# Random Forest Classifier\n",
        "# Support Vector Machine (SVM)\n",
        "\n",
        "from sklearn.linear_model import LogisticRegression\n",
        "from sklearn.tree import DecisionTreeClassifier\n",
        "from sklearn.ensemble import RandomForestClassifier\n",
        "from sklearn.svm import SVC\n",
        "from sklearn.metrics import accuracy_score, classification_report\n",
        "\n",
        "# Initialize the models\n",
        "models = {\n",
        "    \"Logistic Regression\": LogisticRegression(),\n",
        "    \"Decision Tree\": DecisionTreeClassifier(),\n",
        "    \"Random Forest\": RandomForestClassifier(),\n",
        "    \"SVM\": SVC()\n",
        "}\n",
        "\n",
        "# Train and evaluate each model\n",
        "results = {}\n",
        "for name, model in models.items():\n",
        "    model.fit(X_train, y_train)\n",
        "    y_pred = model.predict(X_test)\n",
        "    accuracy = accuracy_score(y_test, y_pred)\n",
        "    results[name] = {\n",
        "        \"accuracy\": accuracy,\n",
        "        \"classification_report\": classification_report(y_test, y_pred)\n",
        "    }\n",
        "    print(f\"{name} Accuracy: {accuracy}\")\n",
        "    print(f\"{name} Classification Report:\\n{classification_report(y_test, y_pred)}\")"
      ],
      "metadata": {
        "id": "6TDwVAaiqhT1",
        "colab": {
          "base_uri": "https://localhost:8080/"
        },
        "outputId": "8daa2e35-c322-4f99-b5f7-b511f1ee0869"
      },
      "execution_count": null,
      "outputs": [
        {
          "output_type": "stream",
          "name": "stdout",
          "text": [
            "Logistic Regression Accuracy: 0.7638190954773869\n",
            "Logistic Regression Classification Report:\n",
            "              precision    recall  f1-score   support\n",
            "\n",
            "           0       0.76      0.92      0.83       257\n",
            "           1       0.76      0.48      0.59       141\n",
            "\n",
            "    accuracy                           0.76       398\n",
            "   macro avg       0.76      0.70      0.71       398\n",
            "weighted avg       0.76      0.76      0.75       398\n",
            "\n",
            "Decision Tree Accuracy: 0.7688442211055276\n",
            "Decision Tree Classification Report:\n",
            "              precision    recall  f1-score   support\n",
            "\n",
            "           0       0.83      0.81      0.82       257\n",
            "           1       0.67      0.70      0.68       141\n",
            "\n",
            "    accuracy                           0.77       398\n",
            "   macro avg       0.75      0.75      0.75       398\n",
            "weighted avg       0.77      0.77      0.77       398\n",
            "\n",
            "Random Forest Accuracy: 0.8190954773869347\n",
            "Random Forest Classification Report:\n",
            "              precision    recall  f1-score   support\n",
            "\n",
            "           0       0.82      0.93      0.87       257\n",
            "           1       0.83      0.62      0.71       141\n",
            "\n",
            "    accuracy                           0.82       398\n",
            "   macro avg       0.82      0.77      0.79       398\n",
            "weighted avg       0.82      0.82      0.81       398\n",
            "\n",
            "SVM Accuracy: 0.7713567839195979\n",
            "SVM Classification Report:\n",
            "              precision    recall  f1-score   support\n",
            "\n",
            "           0       0.76      0.95      0.84       257\n",
            "           1       0.83      0.45      0.58       141\n",
            "\n",
            "    accuracy                           0.77       398\n",
            "   macro avg       0.79      0.70      0.71       398\n",
            "weighted avg       0.78      0.77      0.75       398\n",
            "\n"
          ]
        }
      ]
    },
    {
      "cell_type": "code",
      "source": [],
      "metadata": {
        "id": "iZ4Ppancqnje"
      },
      "execution_count": null,
      "outputs": []
    },
    {
      "cell_type": "markdown",
      "source": [
        "# Model Evaluation\n",
        "We'll evaluate each model using accuracy, confusion matrix, precision, recall, and F1-score."
      ],
      "metadata": {
        "id": "o6rKR103qoFs"
      }
    },
    {
      "cell_type": "code",
      "source": [
        "# prompt: generate classification report\n",
        "\n",
        "# Assuming 'results' dictionary is already populated as in the provided code.\n",
        "\n",
        "for name, result in results.items():\n",
        "    print(f\"{name} Classification Report:\\n{result['classification_report']}\")"
      ],
      "metadata": {
        "id": "zOjmRPTQqps3",
        "colab": {
          "base_uri": "https://localhost:8080/"
        },
        "outputId": "bfcfd8cb-d4fc-4784-cb7d-8514a1c16347"
      },
      "execution_count": null,
      "outputs": [
        {
          "output_type": "stream",
          "name": "stdout",
          "text": [
            "Logistic Regression Classification Report:\n",
            "              precision    recall  f1-score   support\n",
            "\n",
            "           0       0.76      0.92      0.83       257\n",
            "           1       0.76      0.48      0.59       141\n",
            "\n",
            "    accuracy                           0.76       398\n",
            "   macro avg       0.76      0.70      0.71       398\n",
            "weighted avg       0.76      0.76      0.75       398\n",
            "\n",
            "Decision Tree Classification Report:\n",
            "              precision    recall  f1-score   support\n",
            "\n",
            "           0       0.83      0.81      0.82       257\n",
            "           1       0.67      0.70      0.68       141\n",
            "\n",
            "    accuracy                           0.77       398\n",
            "   macro avg       0.75      0.75      0.75       398\n",
            "weighted avg       0.77      0.77      0.77       398\n",
            "\n",
            "Random Forest Classification Report:\n",
            "              precision    recall  f1-score   support\n",
            "\n",
            "           0       0.82      0.93      0.87       257\n",
            "           1       0.83      0.62      0.71       141\n",
            "\n",
            "    accuracy                           0.82       398\n",
            "   macro avg       0.82      0.77      0.79       398\n",
            "weighted avg       0.82      0.82      0.81       398\n",
            "\n",
            "SVM Classification Report:\n",
            "              precision    recall  f1-score   support\n",
            "\n",
            "           0       0.76      0.95      0.84       257\n",
            "           1       0.83      0.45      0.58       141\n",
            "\n",
            "    accuracy                           0.77       398\n",
            "   macro avg       0.79      0.70      0.71       398\n",
            "weighted avg       0.78      0.77      0.75       398\n",
            "\n"
          ]
        }
      ]
    },
    {
      "cell_type": "code",
      "source": [],
      "metadata": {
        "id": "vT72ZgiCqpv4"
      },
      "execution_count": null,
      "outputs": []
    },
    {
      "cell_type": "markdown",
      "source": [
        "# Model Deployment (Optional)\n",
        "We can save the best model for future use and create a simple API to serve predictions."
      ],
      "metadata": {
        "id": "Q-uQtSuAqwQl"
      }
    },
    {
      "cell_type": "code",
      "source": [
        "# prompt: now we need to save the model using joblib library\n",
        "\n",
        "import joblib\n",
        "\n",
        "# Assuming 'model' is the best performing model from the previous steps.\n",
        "# Replace 'best_model' with the actual variable name of your best model.\n",
        "best_model = models[\"Random Forest\"] #Example, replace with your best model\n",
        "\n",
        "# Save the model to a file\n",
        "filename = 'travel_insurance_model.joblib'\n",
        "joblib.dump(best_model, filename)\n",
        "\n",
        "print(f\"Model saved to {filename}\")"
      ],
      "metadata": {
        "id": "PS8mNfYUq1in",
        "colab": {
          "base_uri": "https://localhost:8080/"
        },
        "outputId": "42cb97e9-79c4-49d5-fd18-2b51fa3fcf3a"
      },
      "execution_count": null,
      "outputs": [
        {
          "output_type": "stream",
          "name": "stdout",
          "text": [
            "Model saved to travel_insurance_model.joblib\n"
          ]
        }
      ]
    }
  ]
}